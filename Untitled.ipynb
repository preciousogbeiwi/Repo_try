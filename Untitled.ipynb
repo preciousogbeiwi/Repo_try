{
 "cells": [
  {
   "cell_type": "code",
   "execution_count": 1,
   "id": "613165ac-3cde-406e-b0c0-1a74e61c0b94",
   "metadata": {},
   "outputs": [
    {
     "name": "stdout",
     "output_type": "stream",
     "text": [
      "Requirement already satisfied: notebook in /opt/miniconda3/lib/python3.9/site-packages (6.4.8)\n",
      "Requirement already satisfied: ipykernel in /opt/miniconda3/lib/python3.9/site-packages (from notebook) (6.9.1)\n",
      "Requirement already satisfied: nest-asyncio>=1.5 in /opt/miniconda3/lib/python3.9/site-packages (from notebook) (1.5.4)\n",
      "Requirement already satisfied: prometheus-client in /opt/miniconda3/lib/python3.9/site-packages (from notebook) (0.13.1)\n",
      "Requirement already satisfied: jupyter-core>=4.6.1 in /opt/miniconda3/lib/python3.9/site-packages (from notebook) (4.9.2)\n",
      "Requirement already satisfied: jupyter-client>=5.3.4 in /opt/miniconda3/lib/python3.9/site-packages (from notebook) (7.1.2)\n",
      "Requirement already satisfied: tornado>=6.1 in /opt/miniconda3/lib/python3.9/site-packages (from notebook) (6.1)\n",
      "Requirement already satisfied: jinja2 in /opt/miniconda3/lib/python3.9/site-packages (from notebook) (3.0.3)\n",
      "Requirement already satisfied: traitlets>=4.2.1 in /opt/miniconda3/lib/python3.9/site-packages (from notebook) (5.1.1)\n",
      "Requirement already satisfied: ipython-genutils in /opt/miniconda3/lib/python3.9/site-packages (from notebook) (0.2.0)\n",
      "Requirement already satisfied: Send2Trash>=1.8.0 in /opt/miniconda3/lib/python3.9/site-packages (from notebook) (1.8.0)\n",
      "Requirement already satisfied: pyzmq>=17 in /opt/miniconda3/lib/python3.9/site-packages (from notebook) (22.3.0)\n",
      "Requirement already satisfied: nbformat in /opt/miniconda3/lib/python3.9/site-packages (from notebook) (5.1.3)\n",
      "Requirement already satisfied: nbconvert in /opt/miniconda3/lib/python3.9/site-packages (from notebook) (6.4.2)\n",
      "Requirement already satisfied: argon2-cffi in /opt/miniconda3/lib/python3.9/site-packages (from notebook) (21.3.0)\n",
      "Requirement already satisfied: terminado>=0.8.3 in /opt/miniconda3/lib/python3.9/site-packages (from notebook) (0.13.2)\n",
      "Requirement already satisfied: entrypoints in /opt/miniconda3/lib/python3.9/site-packages (from jupyter-client>=5.3.4->notebook) (0.4)\n",
      "Requirement already satisfied: python-dateutil>=2.1 in /opt/miniconda3/lib/python3.9/site-packages (from jupyter-client>=5.3.4->notebook) (2.8.2)\n",
      "Requirement already satisfied: six>=1.5 in /opt/miniconda3/lib/python3.9/site-packages (from python-dateutil>=2.1->jupyter-client>=5.3.4->notebook) (1.16.0)\n",
      "Requirement already satisfied: ptyprocess in /opt/miniconda3/lib/python3.9/site-packages (from terminado>=0.8.3->notebook) (0.7.0)\n",
      "Requirement already satisfied: argon2-cffi-bindings in /opt/miniconda3/lib/python3.9/site-packages (from argon2-cffi->notebook) (21.2.0)\n",
      "Requirement already satisfied: cffi>=1.0.1 in /opt/miniconda3/lib/python3.9/site-packages (from argon2-cffi-bindings->argon2-cffi->notebook) (1.15.0)\n",
      "Requirement already satisfied: pycparser in /opt/miniconda3/lib/python3.9/site-packages (from cffi>=1.0.1->argon2-cffi-bindings->argon2-cffi->notebook) (2.21)\n",
      "Requirement already satisfied: ipython>=7.23.1 in /opt/miniconda3/lib/python3.9/site-packages (from ipykernel->notebook) (8.1.1)\n",
      "Requirement already satisfied: matplotlib-inline<0.2.0,>=0.1.0 in /opt/miniconda3/lib/python3.9/site-packages (from ipykernel->notebook) (0.1.3)\n",
      "Requirement already satisfied: debugpy<2.0,>=1.0.0 in /opt/miniconda3/lib/python3.9/site-packages (from ipykernel->notebook) (1.5.1)\n",
      "Requirement already satisfied: appnope in /opt/miniconda3/lib/python3.9/site-packages (from ipykernel->notebook) (0.1.2)\n",
      "Requirement already satisfied: stack-data in /opt/miniconda3/lib/python3.9/site-packages (from ipython>=7.23.1->ipykernel->notebook) (0.2.0)\n",
      "Requirement already satisfied: pickleshare in /opt/miniconda3/lib/python3.9/site-packages (from ipython>=7.23.1->ipykernel->notebook) (0.7.5)\n",
      "Requirement already satisfied: prompt-toolkit!=3.0.0,!=3.0.1,<3.1.0,>=2.0.0 in /opt/miniconda3/lib/python3.9/site-packages (from ipython>=7.23.1->ipykernel->notebook) (3.0.28)\n",
      "Requirement already satisfied: setuptools>=18.5 in /opt/miniconda3/lib/python3.9/site-packages (from ipython>=7.23.1->ipykernel->notebook) (58.0.4)\n",
      "Requirement already satisfied: pygments>=2.4.0 in /opt/miniconda3/lib/python3.9/site-packages (from ipython>=7.23.1->ipykernel->notebook) (2.11.2)\n",
      "Requirement already satisfied: jedi>=0.16 in /opt/miniconda3/lib/python3.9/site-packages (from ipython>=7.23.1->ipykernel->notebook) (0.18.1)\n",
      "Requirement already satisfied: pexpect>4.3 in /opt/miniconda3/lib/python3.9/site-packages (from ipython>=7.23.1->ipykernel->notebook) (4.8.0)\n",
      "Requirement already satisfied: backcall in /opt/miniconda3/lib/python3.9/site-packages (from ipython>=7.23.1->ipykernel->notebook) (0.2.0)\n",
      "Requirement already satisfied: decorator in /opt/miniconda3/lib/python3.9/site-packages (from ipython>=7.23.1->ipykernel->notebook) (5.1.1)\n",
      "Requirement already satisfied: parso<0.9.0,>=0.8.0 in /opt/miniconda3/lib/python3.9/site-packages (from jedi>=0.16->ipython>=7.23.1->ipykernel->notebook) (0.8.3)\n",
      "Requirement already satisfied: wcwidth in /opt/miniconda3/lib/python3.9/site-packages (from prompt-toolkit!=3.0.0,!=3.0.1,<3.1.0,>=2.0.0->ipython>=7.23.1->ipykernel->notebook) (0.2.5)\n",
      "Requirement already satisfied: MarkupSafe>=2.0 in /opt/miniconda3/lib/python3.9/site-packages (from jinja2->notebook) (2.1.0)\n",
      "Requirement already satisfied: bleach in /opt/miniconda3/lib/python3.9/site-packages (from nbconvert->notebook) (4.1.0)\n",
      "Requirement already satisfied: testpath in /opt/miniconda3/lib/python3.9/site-packages (from nbconvert->notebook) (0.6.0)\n",
      "Requirement already satisfied: nbclient<0.6.0,>=0.5.0 in /opt/miniconda3/lib/python3.9/site-packages (from nbconvert->notebook) (0.5.11)\n",
      "Requirement already satisfied: defusedxml in /opt/miniconda3/lib/python3.9/site-packages (from nbconvert->notebook) (0.7.1)\n",
      "Requirement already satisfied: pandocfilters>=1.4.1 in /opt/miniconda3/lib/python3.9/site-packages (from nbconvert->notebook) (1.5.0)\n",
      "Requirement already satisfied: mistune<2,>=0.8.1 in /opt/miniconda3/lib/python3.9/site-packages (from nbconvert->notebook) (0.8.4)\n",
      "Requirement already satisfied: jupyterlab-pygments in /opt/miniconda3/lib/python3.9/site-packages (from nbconvert->notebook) (0.1.2)\n",
      "Requirement already satisfied: jsonschema!=2.5.0,>=2.4 in /opt/miniconda3/lib/python3.9/site-packages (from nbformat->notebook) (4.4.0)\n",
      "Requirement already satisfied: pyrsistent!=0.17.0,!=0.17.1,!=0.17.2,>=0.14.0 in /opt/miniconda3/lib/python3.9/site-packages (from jsonschema!=2.5.0,>=2.4->nbformat->notebook) (0.18.1)\n",
      "Requirement already satisfied: attrs>=17.4.0 in /opt/miniconda3/lib/python3.9/site-packages (from jsonschema!=2.5.0,>=2.4->nbformat->notebook) (21.4.0)\n",
      "Requirement already satisfied: webencodings in /opt/miniconda3/lib/python3.9/site-packages (from bleach->nbconvert->notebook) (0.5.1)\n",
      "Requirement already satisfied: packaging in /opt/miniconda3/lib/python3.9/site-packages (from bleach->nbconvert->notebook) (21.3)\n",
      "Requirement already satisfied: pyparsing!=3.0.5,>=2.0.2 in /opt/miniconda3/lib/python3.9/site-packages (from packaging->bleach->nbconvert->notebook) (3.0.7)\n",
      "Requirement already satisfied: asttokens in /opt/miniconda3/lib/python3.9/site-packages (from stack-data->ipython>=7.23.1->ipykernel->notebook) (2.0.5)\n",
      "Requirement already satisfied: executing in /opt/miniconda3/lib/python3.9/site-packages (from stack-data->ipython>=7.23.1->ipykernel->notebook) (0.8.3)\n",
      "Requirement already satisfied: pure-eval in /opt/miniconda3/lib/python3.9/site-packages (from stack-data->ipython>=7.23.1->ipykernel->notebook) (0.2.2)\n",
      "Note: you may need to restart the kernel to use updated packages.\n"
     ]
    }
   ],
   "source": [
    "pip install notebook\n"
   ]
  },
  {
   "cell_type": "code",
   "execution_count": null,
   "id": "2c7ddaf7-ccb2-44e2-a051-8fee5235ae91",
   "metadata": {},
   "outputs": [],
   "source": []
  }
 ],
 "metadata": {
  "kernelspec": {
   "display_name": "Python 3 (ipykernel)",
   "language": "python",
   "name": "python3"
  },
  "language_info": {
   "codemirror_mode": {
    "name": "ipython",
    "version": 3
   },
   "file_extension": ".py",
   "mimetype": "text/x-python",
   "name": "python",
   "nbconvert_exporter": "python",
   "pygments_lexer": "ipython3",
   "version": "3.9.7"
  }
 },
 "nbformat": 4,
 "nbformat_minor": 5
}
